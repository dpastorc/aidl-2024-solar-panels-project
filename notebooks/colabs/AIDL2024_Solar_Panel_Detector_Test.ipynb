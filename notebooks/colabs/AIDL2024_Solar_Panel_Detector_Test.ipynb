version https://git-lfs.github.com/spec/v1
oid sha256:91eea9420513413897add9375623cfe386bfc18dff30c2507ec4ef6cf79e2f61
size 84481

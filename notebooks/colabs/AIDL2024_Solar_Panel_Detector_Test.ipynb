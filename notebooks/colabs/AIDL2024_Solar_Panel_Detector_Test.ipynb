version https://git-lfs.github.com/spec/v1
oid sha256:b71fb7b694b9416bc95e84446731de910cf9e2d132b9bec4b78c7b7ef0df86f5
size 84634
